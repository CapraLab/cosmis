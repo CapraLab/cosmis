{
 "cells": [
  {
   "cell_type": "markdown",
   "metadata": {},
   "source": [
    "## Predicting the number of variants in contact sets"
   ]
  },
  {
   "cell_type": "code",
   "execution_count": 2,
   "metadata": {},
   "outputs": [
    {
     "data": {
      "text/html": [
       "<style>.container { width:100% !important; }</style>"
      ],
      "text/plain": [
       "<IPython.core.display.HTML object>"
      ]
     },
     "metadata": {},
     "output_type": "display_data"
    }
   ],
   "source": [
    "# increase cell width to use all browser space\n",
    "from IPython.core.display import display, HTML\n",
    "display(HTML(\"<style>.container { width:100% !important; }</style>\"))"
   ]
  },
  {
   "cell_type": "code",
   "execution_count": 1,
   "metadata": {},
   "outputs": [
    {
     "data": {
      "text/html": [
       "<div>\n",
       "<style scoped>\n",
       "    .dataframe tbody tr th:only-of-type {\n",
       "        vertical-align: middle;\n",
       "    }\n",
       "\n",
       "    .dataframe tbody tr th {\n",
       "        vertical-align: top;\n",
       "    }\n",
       "\n",
       "    .dataframe thead th {\n",
       "        text-align: right;\n",
       "    }\n",
       "</style>\n",
       "<table border=\"1\" class=\"dataframe\">\n",
       "  <thead>\n",
       "    <tr style=\"text-align: right;\">\n",
       "      <th></th>\n",
       "      <th>enst_id</th>\n",
       "      <th>ensp_id</th>\n",
       "      <th>uniprot_id</th>\n",
       "      <th>ensp_pos</th>\n",
       "      <th>ensp_aa</th>\n",
       "      <th>pdb_pos</th>\n",
       "      <th>pdb_aa</th>\n",
       "      <th>pdb_id</th>\n",
       "      <th>chain_id</th>\n",
       "      <th>seq_separation</th>\n",
       "      <th>num_contacts</th>\n",
       "      <th>gc_count</th>\n",
       "      <th>cg_count</th>\n",
       "      <th>gc_content</th>\n",
       "      <th>syn_prob</th>\n",
       "      <th>mis_prob</th>\n",
       "      <th>syn_count_obs</th>\n",
       "      <th>mis_count_obs</th>\n",
       "      <th>syn_count_pos</th>\n",
       "      <th>mis_count_pos</th>\n",
       "    </tr>\n",
       "  </thead>\n",
       "  <tbody>\n",
       "    <tr>\n",
       "      <th>0</th>\n",
       "      <td>ENST00000000233</td>\n",
       "      <td>ENSP00000000233</td>\n",
       "      <td>P84085</td>\n",
       "      <td>8</td>\n",
       "      <td>L</td>\n",
       "      <td>8</td>\n",
       "      <td>L</td>\n",
       "      <td>2b6h</td>\n",
       "      <td>A</td>\n",
       "      <td>-1;4;159;1;30;3;2</td>\n",
       "      <td>8</td>\n",
       "      <td>5</td>\n",
       "      <td>5</td>\n",
       "      <td>0.575</td>\n",
       "      <td>5.881000e-07</td>\n",
       "      <td>8.626000e-07</td>\n",
       "      <td>1</td>\n",
       "      <td>1</td>\n",
       "      <td>48</td>\n",
       "      <td>48</td>\n",
       "    </tr>\n",
       "    <tr>\n",
       "      <th>1</th>\n",
       "      <td>ENST00000000233</td>\n",
       "      <td>ENSP00000000233</td>\n",
       "      <td>P84085</td>\n",
       "      <td>9</td>\n",
       "      <td>F</td>\n",
       "      <td>9</td>\n",
       "      <td>F</td>\n",
       "      <td>2b6h</td>\n",
       "      <td>A</td>\n",
       "      <td>2;-2;30;28;161;3;1;-1;29;52;158</td>\n",
       "      <td>12</td>\n",
       "      <td>5</td>\n",
       "      <td>5</td>\n",
       "      <td>0.550</td>\n",
       "      <td>7.302000e-07</td>\n",
       "      <td>1.045000e-06</td>\n",
       "      <td>4</td>\n",
       "      <td>1</td>\n",
       "      <td>72</td>\n",
       "      <td>72</td>\n",
       "    </tr>\n",
       "    <tr>\n",
       "      <th>2</th>\n",
       "      <td>ENST00000000233</td>\n",
       "      <td>ENSP00000000233</td>\n",
       "      <td>P84085</td>\n",
       "      <td>10</td>\n",
       "      <td>S</td>\n",
       "      <td>10</td>\n",
       "      <td>S</td>\n",
       "      <td>2b6h</td>\n",
       "      <td>A</td>\n",
       "      <td>2;1;51;28;-4;29;-3;-5;48;-1;49;-2</td>\n",
       "      <td>13</td>\n",
       "      <td>6</td>\n",
       "      <td>5</td>\n",
       "      <td>0.508</td>\n",
       "      <td>4.492000e-07</td>\n",
       "      <td>1.045000e-06</td>\n",
       "      <td>2</td>\n",
       "      <td>1</td>\n",
       "      <td>70</td>\n",
       "      <td>70</td>\n",
       "    </tr>\n",
       "    <tr>\n",
       "      <th>3</th>\n",
       "      <td>ENST00000000233</td>\n",
       "      <td>ENSP00000000233</td>\n",
       "      <td>P84085</td>\n",
       "      <td>11</td>\n",
       "      <td>R</td>\n",
       "      <td>11</td>\n",
       "      <td>R</td>\n",
       "      <td>2b6h</td>\n",
       "      <td>A</td>\n",
       "      <td>-1;-2;3;1;-5;-3;2</td>\n",
       "      <td>8</td>\n",
       "      <td>5</td>\n",
       "      <td>3</td>\n",
       "      <td>0.600</td>\n",
       "      <td>5.388000e-07</td>\n",
       "      <td>1.092000e-06</td>\n",
       "      <td>0</td>\n",
       "      <td>1</td>\n",
       "      <td>46</td>\n",
       "      <td>46</td>\n",
       "    </tr>\n",
       "    <tr>\n",
       "      <th>4</th>\n",
       "      <td>ENST00000000233</td>\n",
       "      <td>ENSP00000000233</td>\n",
       "      <td>P84085</td>\n",
       "      <td>12</td>\n",
       "      <td>I</td>\n",
       "      <td>12</td>\n",
       "      <td>I</td>\n",
       "      <td>2b6h</td>\n",
       "      <td>A</td>\n",
       "      <td>-2;-4;159;-1;155;-3;1;2;158;162</td>\n",
       "      <td>11</td>\n",
       "      <td>5</td>\n",
       "      <td>3</td>\n",
       "      <td>0.600</td>\n",
       "      <td>8.760000e-07</td>\n",
       "      <td>1.296000e-06</td>\n",
       "      <td>1</td>\n",
       "      <td>1</td>\n",
       "      <td>73</td>\n",
       "      <td>73</td>\n",
       "    </tr>\n",
       "  </tbody>\n",
       "</table>\n",
       "</div>"
      ],
      "text/plain": [
       "           enst_id          ensp_id uniprot_id  ensp_pos ensp_aa  pdb_pos  \\\n",
       "0  ENST00000000233  ENSP00000000233     P84085         8       L        8   \n",
       "1  ENST00000000233  ENSP00000000233     P84085         9       F        9   \n",
       "2  ENST00000000233  ENSP00000000233     P84085        10       S       10   \n",
       "3  ENST00000000233  ENSP00000000233     P84085        11       R       11   \n",
       "4  ENST00000000233  ENSP00000000233     P84085        12       I       12   \n",
       "\n",
       "  pdb_aa pdb_id chain_id                     seq_separation  num_contacts  \\\n",
       "0      L   2b6h        A                  -1;4;159;1;30;3;2             8   \n",
       "1      F   2b6h        A    2;-2;30;28;161;3;1;-1;29;52;158            12   \n",
       "2      S   2b6h        A  2;1;51;28;-4;29;-3;-5;48;-1;49;-2            13   \n",
       "3      R   2b6h        A                  -1;-2;3;1;-5;-3;2             8   \n",
       "4      I   2b6h        A    -2;-4;159;-1;155;-3;1;2;158;162            11   \n",
       "\n",
       "   gc_count  cg_count  gc_content      syn_prob      mis_prob  syn_count_obs  \\\n",
       "0         5         5       0.575  5.881000e-07  8.626000e-07              1   \n",
       "1         5         5       0.550  7.302000e-07  1.045000e-06              4   \n",
       "2         6         5       0.508  4.492000e-07  1.045000e-06              2   \n",
       "3         5         3       0.600  5.388000e-07  1.092000e-06              0   \n",
       "4         5         3       0.600  8.760000e-07  1.296000e-06              1   \n",
       "\n",
       "   mis_count_obs  syn_count_pos  mis_count_pos  \n",
       "0              1             48             48  \n",
       "1              1             72             72  \n",
       "2              1             70             70  \n",
       "3              1             46             46  \n",
       "4              1             73             73  "
      ]
     },
     "execution_count": 1,
     "metadata": {},
     "output_type": "execute_result"
    }
   ],
   "source": [
    "import numpy as np\n",
    "import pandas as pd\n",
    "\n",
    "# load data set\n",
    "data = pd.read_csv(\n",
    "    filepath_or_buffer='contact_set_features_8a.tsv', \n",
    "    sep='\\t',\n",
    "    header=0\n",
    ")\n",
    "\n",
    "# take a look at the top rows to see if the parsing look right\n",
    "data.head()"
   ]
  },
  {
   "cell_type": "code",
   "execution_count": 23,
   "metadata": {},
   "outputs": [
    {
     "data": {
      "text/html": [
       "<div>\n",
       "<style scoped>\n",
       "    .dataframe tbody tr th:only-of-type {\n",
       "        vertical-align: middle;\n",
       "    }\n",
       "\n",
       "    .dataframe tbody tr th {\n",
       "        vertical-align: top;\n",
       "    }\n",
       "\n",
       "    .dataframe thead th {\n",
       "        text-align: right;\n",
       "    }\n",
       "</style>\n",
       "<table border=\"1\" class=\"dataframe\">\n",
       "  <thead>\n",
       "    <tr style=\"text-align: right;\">\n",
       "      <th></th>\n",
       "      <th>num_contacts</th>\n",
       "      <th>gc_count</th>\n",
       "      <th>cg_count</th>\n",
       "      <th>gc_content</th>\n",
       "      <th>syn_prob</th>\n",
       "      <th>mis_prob</th>\n",
       "      <th>syn_count_obs</th>\n",
       "      <th>mis_count_obs</th>\n",
       "      <th>syn_count_pos</th>\n",
       "      <th>mis_count_pos</th>\n",
       "    </tr>\n",
       "  </thead>\n",
       "  <tbody>\n",
       "    <tr>\n",
       "      <th>12</th>\n",
       "      <td>15</td>\n",
       "      <td>1</td>\n",
       "      <td>4</td>\n",
       "      <td>0.547</td>\n",
       "      <td>3.406000e-07</td>\n",
       "      <td>1.319000e-06</td>\n",
       "      <td>2</td>\n",
       "      <td>1</td>\n",
       "      <td>103</td>\n",
       "      <td>103</td>\n",
       "    </tr>\n",
       "    <tr>\n",
       "      <th>13</th>\n",
       "      <td>15</td>\n",
       "      <td>1</td>\n",
       "      <td>5</td>\n",
       "      <td>0.587</td>\n",
       "      <td>3.723000e-07</td>\n",
       "      <td>1.275000e-06</td>\n",
       "      <td>1</td>\n",
       "      <td>2</td>\n",
       "      <td>97</td>\n",
       "      <td>97</td>\n",
       "    </tr>\n",
       "    <tr>\n",
       "      <th>14</th>\n",
       "      <td>15</td>\n",
       "      <td>0</td>\n",
       "      <td>1</td>\n",
       "      <td>0.480</td>\n",
       "      <td>3.394000e-07</td>\n",
       "      <td>8.667000e-07</td>\n",
       "      <td>4</td>\n",
       "      <td>2</td>\n",
       "      <td>101</td>\n",
       "      <td>101</td>\n",
       "    </tr>\n",
       "    <tr>\n",
       "      <th>15</th>\n",
       "      <td>15</td>\n",
       "      <td>2</td>\n",
       "      <td>2</td>\n",
       "      <td>0.560</td>\n",
       "      <td>4.828000e-07</td>\n",
       "      <td>1.152000e-06</td>\n",
       "      <td>5</td>\n",
       "      <td>1</td>\n",
       "      <td>108</td>\n",
       "      <td>108</td>\n",
       "    </tr>\n",
       "    <tr>\n",
       "      <th>16</th>\n",
       "      <td>16</td>\n",
       "      <td>2</td>\n",
       "      <td>2</td>\n",
       "      <td>0.613</td>\n",
       "      <td>5.596000e-07</td>\n",
       "      <td>1.194000e-06</td>\n",
       "      <td>4</td>\n",
       "      <td>2</td>\n",
       "      <td>110</td>\n",
       "      <td>110</td>\n",
       "    </tr>\n",
       "  </tbody>\n",
       "</table>\n",
       "</div>"
      ],
      "text/plain": [
       "    num_contacts  gc_count  cg_count  gc_content      syn_prob      mis_prob  \\\n",
       "12            15         1         4       0.547  3.406000e-07  1.319000e-06   \n",
       "13            15         1         5       0.587  3.723000e-07  1.275000e-06   \n",
       "14            15         0         1       0.480  3.394000e-07  8.667000e-07   \n",
       "15            15         2         2       0.560  4.828000e-07  1.152000e-06   \n",
       "16            16         2         2       0.613  5.596000e-07  1.194000e-06   \n",
       "\n",
       "    syn_count_obs  mis_count_obs  syn_count_pos  mis_count_pos  \n",
       "12              2              1            103            103  \n",
       "13              1              2             97             97  \n",
       "14              4              2            101            101  \n",
       "15              5              1            108            108  \n",
       "16              4              2            110            110  "
      ]
     },
     "execution_count": 23,
     "metadata": {},
     "output_type": "execute_result"
    }
   ],
   "source": [
    "# remove ID columns from the data set\n",
    "data_id_removed = data.iloc[:, 10:]\n",
    "\n",
    "# remove contact sets that have less than 8 residues\n",
    "data_id_removed = data_id_removed[data_id_removed['num_contacts'] >= 15]\n",
    "data_id_removed.head()"
   ]
  },
  {
   "cell_type": "markdown",
   "metadata": {},
   "source": [
    "### Creating Data Sets for Training, Validation, and Testing\n",
    "The data set was split into training, validation, and testing subsets with ```[0.8, 0.1, 0.1]``` ratio. "
   ]
  },
  {
   "cell_type": "code",
   "execution_count": 24,
   "metadata": {},
   "outputs": [],
   "source": [
    "# create a training set and a test set\n",
    "shuffled_indices = np.random.permutation(len(data_id_removed))\n",
    "train_size = int(len(data_id_removed) * 0.8)\n",
    "val_size = int(len(data_id_removed) * 0.1)\n",
    "train_indices = shuffled_indices[:train_size]\n",
    "val_indices = shuffled_indices[train_size:(train_size + val_size)]\n",
    "test_indices = shuffled_indices[(train_size + val_size):]\n",
    "train_data = data_id_removed.iloc[train_indices]\n",
    "val_data = data_id_removed.iloc[val_indices]\n",
    "test_data = data_id_removed.iloc[test_indices]\n",
    "\n",
    "# get data matrices for training and testing\n",
    "feature_column_ids = [0, 1, 2, 3, 4, 8]\n",
    "X_train = train_data.iloc[:, feature_column_ids]\n",
    "y_train = train_data.iloc[:, 6]\n",
    "X_val = val_data.iloc[:, feature_column_ids]\n",
    "y_val = val_data.iloc[:, 6]\n",
    "X_test = test_data.iloc[:, feature_column_ids]\n",
    "y_test = test_data.iloc[:, 6]"
   ]
  },
  {
   "cell_type": "markdown",
   "metadata": {},
   "source": [
    "### Training models\n",
    "#### Gradient Boosted Regression Tree Model"
   ]
  },
  {
   "cell_type": "code",
   "execution_count": 25,
   "metadata": {},
   "outputs": [],
   "source": [
    "# fit a gradient boosting regressor\n",
    "from sklearn.ensemble import GradientBoostingRegressor\n",
    "from sklearn.pipeline import Pipeline\n",
    "from sklearn.preprocessing import StandardScaler\n",
    "from sklearn.model_selection import GridSearchCV\n",
    "from sklearn.metrics import mean_squared_error\n",
    "\n",
    "scaling_pipeline = Pipeline([\n",
    "    ('std_scaler', StandardScaler())\n",
    "])\n",
    "X_train_scaled = scaling_pipeline.fit_transform(X_train)\n",
    "X_val_scaled = scaling_pipeline.fit_transform(X_val)\n",
    "\n",
    "gbrt = GradientBoostingRegressor(max_depth=5, warm_start=True)\n",
    "\n",
    "min_val_error = float('inf')\n",
    "error_going_up = 0\n",
    "for n_estimators in range(1, 100):\n",
    "    gbrt.n_estimators = n_estimators\n",
    "    gbrt.fit(X_train_scaled, y_train)\n",
    "    y_pred_val = gbrt.predict(X_val_scaled)\n",
    "    val_error = mean_squared_error(y_val, y_pred_val)\n",
    "    if val_error < min_val_error:\n",
    "        min_val_error = val_error\n",
    "        error_going_up = 0\n",
    "    else:\n",
    "        error_going_up += 1\n",
    "        if error_going_up == 5:\n",
    "            # early stopping\n",
    "            break"
   ]
  },
  {
   "cell_type": "markdown",
   "metadata": {},
   "source": [
    "#### Feature Importance\n",
    "In decision trees, important features are more likely to appear closer to the root of the tree, while unimportant features will often appear closer to the leaves. It is therefore possible to get an estimate of a feature's importance by computing the average depth at which it appears cross all three in the model.Scikit-Learn computes this automatically for every feature after training. We can access the result using the ```feature_importance_``` attribute of the trained model."
   ]
  },
  {
   "cell_type": "code",
   "execution_count": 26,
   "metadata": {},
   "outputs": [
    {
     "name": "stdout",
     "output_type": "stream",
     "text": [
      "num_contacts: 0.013\n",
      "gc_count: 0.008\n",
      "cg_count: 0.009\n",
      "gc_content: 0.020\n",
      "syn_prob: 0.936\n",
      "syn_count_pos: 0.013\n"
     ]
    }
   ],
   "source": [
    "# print out feature importance scores\n",
    "for name, score in zip(X_train.columns, gbrt.feature_importances_):\n",
    "    print(name + ':', '%.3f' % score)"
   ]
  },
  {
   "cell_type": "code",
   "execution_count": 27,
   "metadata": {},
   "outputs": [
    {
     "data": {
      "image/png": "[encoded data removed]",
      "text/plain": [
       "<Figure size 432x288 with 1 Axes>"
      ]
     },
     "metadata": {},
     "output_type": "display_data"
    }
   ],
   "source": [
    "# plot feature importance score\n",
    "import seaborn as sns\n",
    "import matplotlib.pyplot as plt\n",
    "\n",
    "sns.set_theme()\n",
    "ax = sns.barplot(\n",
    "    y=['Size', 'GC Count', 'CG Count', 'GC Content', \n",
    "       'Mutation Prob (syn)', '# Poss variants (syn)'], \n",
    "    x=gbrt.feature_importances_\n",
    ")\n",
    "ax.set(xlabel='Feature importance', ylabel='Feature')\n",
    "plt.show()"
   ]
  },
  {
   "cell_type": "code",
   "execution_count": 29,
   "metadata": {},
   "outputs": [
    {
     "data": {
      "text/plain": [
       "(0.5055425090299355, 0.0)"
      ]
     },
     "execution_count": 29,
     "metadata": {},
     "output_type": "execute_result"
    }
   ],
   "source": [
    "#\n",
    "from sklearn.metrics import explained_variance_score\n",
    "from sklearn.metrics import mean_squared_error\n",
    "from scipy.stats import pearsonr\n",
    "\n",
    "\n",
    "X_test_scaled = scaling_pipeline.fit_transform(X_test)\n",
    "y_pred = gbrt.predict(X_train_scaled)\n",
    "pearsonr(y_train, y_pred)"
   ]
  },
  {
   "cell_type": "code",
   "execution_count": 10,
   "metadata": {},
   "outputs": [
    {
     "data": {
      "text/plain": [
       "<AxesSubplot:ylabel='syn_count_obs'>"
      ]
     },
     "execution_count": 10,
     "metadata": {},
     "output_type": "execute_result"
    },
    {
     "data": {
      "image/png": "[encoded data removed]",
      "text/plain": [
       "<Figure size 432x288 with 1 Axes>"
      ]
     },
     "metadata": {},
     "output_type": "display_data"
    }
   ],
   "source": [
    "sns.scatterplot(x=y_pred, y=y_test)"
   ]
  },
  {
   "cell_type": "markdown",
   "metadata": {},
   "source": [
    "#### Fitting a single-variable linear regression model"
   ]
  },
  {
   "cell_type": "code",
   "execution_count": 53,
   "metadata": {},
   "outputs": [
    {
     "data": {
      "text/plain": [
       "(0.5524131533548435, 0.0)"
      ]
     },
     "execution_count": 53,
     "metadata": {},
     "output_type": "execute_result"
    }
   ],
   "source": [
    "#\n",
    "from sklearn.linear_model import LinearRegression\n",
    "\n",
    "lr = LinearRegression()\n",
    "lr.fit(X_train_scaled[:, 4].reshape(-1, 1), y_train)\n",
    "\n",
    "#\n",
    "y_pred = lr.predict(X_test_scaled[:, 4].reshape(-1, 1))\n",
    "pearsonr(y_test, y_pred)"
   ]
  },
  {
   "cell_type": "code",
   "execution_count": 51,
   "metadata": {},
   "outputs": [
    {
     "data": {
      "text/plain": [
       "array([-0.3742665 ,  0.87033338, -1.19055473, ...,  0.92172386,\n",
       "        0.21694003, -0.18036458])"
      ]
     },
     "execution_count": 51,
     "metadata": {},
     "output_type": "execute_result"
    }
   ],
   "source": [
    "X_train_scaled[:, 4]"
   ]
  },
  {
   "cell_type": "code",
   "execution_count": 58,
   "metadata": {},
   "outputs": [
    {
     "data": {
      "text/plain": [
       "Index(['num_contacts', 'gc_count', 'cg_count', 'gc_content',\n",
       "       'synonymous_prob'],\n",
       "      dtype='object')"
      ]
     },
     "execution_count": 58,
     "metadata": {},
     "output_type": "execute_result"
    }
   ],
   "source": [
    "X_train.columns"
   ]
  },
  {
   "cell_type": "markdown",
   "metadata": {},
   "source": [
    "#### Linear Support Vector Regression Model"
   ]
  },
  {
   "cell_type": "code",
   "execution_count": 76,
   "metadata": {},
   "outputs": [
    {
     "data": {
      "text/plain": [
       "LinearSVR(epsilon=1.5)"
      ]
     },
     "execution_count": 76,
     "metadata": {},
     "output_type": "execute_result"
    }
   ],
   "source": [
    "# import required modules\n",
    "from sklearn.svm import LinearSVR\n",
    "\n",
    "svm_reg = LinearSVR(epsilon=1.5)\n",
    "svm_reg.fit(X_train_scaled, y_train)"
   ]
  },
  {
   "cell_type": "code",
   "execution_count": 77,
   "metadata": {},
   "outputs": [
    {
     "data": {
      "text/plain": [
       "(0.5842759486313549, 0.0)"
      ]
     },
     "execution_count": 77,
     "metadata": {},
     "output_type": "execute_result"
    }
   ],
   "source": [
    "y_pred = svm_reg.predict(X_test_scaled)\n",
    "pearsonr(y_test, y_pred)"
   ]
  },
  {
   "cell_type": "code",
   "execution_count": null,
   "metadata": {},
   "outputs": [],
   "source": [
    "# import required module(s)\n",
    "from sklearn.svm import SVR\n",
    "\n",
    "svm_poly_reg = SVR(kernel='poly', degree=2, C=100, epsilon=0.1)\n",
    "svm_poly_reg.fit(X_train_scaled, y_train)"
   ]
  },
  {
   "cell_type": "code",
   "execution_count": null,
   "metadata": {},
   "outputs": [],
   "source": []
  }
 ],
 "metadata": {
  "kernelspec": {
   "display_name": "Python 3",
   "language": "python",
   "name": "python3"
  },
  "language_info": {
   "codemirror_mode": {
    "name": "ipython",
    "version": 3
   },
   "file_extension": ".py",
   "mimetype": "text/x-python",
   "name": "python",
   "nbconvert_exporter": "python",
   "pygments_lexer": "ipython3",
   "version": "3.7.3"
  }
 },
 "nbformat": 4,
 "nbformat_minor": 2
}
